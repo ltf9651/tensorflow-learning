{
 "cells": [
  {
   "cell_type": "code",
   "execution_count": null,
   "metadata": {},
   "outputs": [],
   "source": [
    "import tensorflow as tf\n",
    "import numpy as np\n",
    "import matplotlib.pyplot as plt\n",
    "\n",
    "# 创建输入数据\n",
    "x = np.linspace(-7 ,7, 180) # -7 ~ 7 等间隔180个点\n",
    "\n",
    "def sigmoid(inputs):\n",
    "    y = [1 / (float(1 + np.exp(-x))) for x in inputs]\n",
    "    return y\n",
    "\n",
    "def relu(inputs):\n",
    "    y = [x * (x > 0) for x in inputs]\n",
    "    return y\n",
    "\n",
    "def tanh(inputs):\n",
    "    y = [(np.exp(x) - np.exp(-x)) / float(np.exp(x) + np.exp(-x)) for x in inputs]\n",
    "    return y\n",
    "\n",
    "def softplus(inputs):\n",
    "    y = [np.log(1 + np.exp(x)) for x in inputs]\n",
    "    return y\n",
    "\n",
    "y_sigmoid = tf.nn.sigmoid(x)\n",
    "y_relu = tf.nn.relu(x)\n",
    "y_tanh = tf.nn.tanh(x)\n",
    "y_softplus = tf.nn.softplus(x)\n",
    "\n",
    "sess = tf.Session()\n",
    "y_sigmoid,y_relu,y_tanh,y_softplus = sess.run([y_sigmoid,y_relu,y_tanh,y_softplus])\n",
    "\n",
    "plt.subplot(221) # 2行2列 第1个图象\n",
    "plt.plot(x, y_sigmoid, c=\"red\", label=\"sigmoid\")\n",
    "plt.ylim(-0.2, 1.2) # y轴区间\n",
    "plt.legend(loc=\"best\")\n",
    "\n",
    "plt.subplot(222) # 2行2列 第2个图象\n",
    "plt.plot(x, y_relu, c=\"red\", label=\"relu\")\n",
    "plt.ylim(-1, 6) # y轴区间\n",
    "plt.legend(loc=\"best\")\n",
    "\n",
    "plt.subplot(223) # 2行2列 第3个图象\n",
    "plt.plot(x, y_tanh, c=\"red\", label=\"tanh\")\n",
    "plt.ylim(-1.3, 1.3) # y轴区间\n",
    "plt.legend(loc=\"best\")\n",
    "\n",
    "plt.subplot(224) # 2行2列 第4个图象\n",
    "plt.plot(x, y_softplus, c=\"red\", label=\"softplus\")\n",
    "plt.ylim(-0.2, 1.2) # y轴区间\n",
    "plt.legend(loc=\"best\")\n",
    "\n",
    "plt.show()"
   ]
  },
  {
   "cell_type": "code",
   "execution_count": null,
   "metadata": {},
   "outputs": [],
   "source": []
  }
 ],
 "metadata": {
  "kernelspec": {
   "display_name": "Python 3",
   "language": "python",
   "name": "python3"
  },
  "language_info": {
   "codemirror_mode": {
    "name": "ipython",
    "version": 3
   },
   "file_extension": ".py",
   "mimetype": "text/x-python",
   "name": "python",
   "nbconvert_exporter": "python",
   "pygments_lexer": "ipython3",
   "version": "3.6.5"
  }
 },
 "nbformat": 4,
 "nbformat_minor": 2
}
