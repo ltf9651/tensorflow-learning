{
 "cells": [
  {
   "cell_type": "code",
   "execution_count": null,
   "metadata": {},
   "outputs": [],
   "source": [
    "'''\n",
    "本质：分类器，寻求一个最优超平面完成分类\n",
    "核心：line\n",
    "'''"
   ]
  },
  {
   "cell_type": "code",
   "execution_count": 13,
   "metadata": {},
   "outputs": [
    {
     "name": "stdout",
     "output_type": "stream",
     "text": [
      "(0.0, array([[0.],\n",
      "       [1.]], dtype=float32))\n"
     ]
    }
   ],
   "source": [
    "import cv2\n",
    "import numpy as np\n",
    "import matplotlib.pyplot as plt\n",
    "# 准备数据\n",
    "rand1 = np.array([[155,47],[159,50],[164,53],[168,56],[172,60]]) # 女\n",
    "rand2 = np.array([[152,53],[156,55],[160,56],[172,64],[176,65]]) # 男\n",
    "\n",
    "# 标签\n",
    "label = np.array([[0],[0],[0],[0],[0],[1],[1],[1],[1],[1]])\n",
    "\n",
    "# 数据处理\n",
    "data = np.vstack((rand1, rand2)) # 合并rand1, rand2 \n",
    "data = np.array(data, dtype='float32')\n",
    "\n",
    "# svm训练时数据必须有标签（描述当前数据唯一属性） , 0->女， 1-> 男\n",
    "svm = cv2.ml.SVM_create() #创建svm向量机\n",
    "svm.setType(cv2.ml.SVM_C_SVC)\n",
    "svm.setKernel(cv2.ml.SVM_LINEAR) # 内核:线性 -> 线性分类器\n",
    "svm.setC(0.01)\n",
    "\n",
    "# 训练\n",
    "result = svm.train(data, cv2.ml.ROW_SAMPLE, label)\n",
    "\n",
    "#预测\n",
    "pt_data = np.vstack([[167,55],[162,57]])\n",
    "pt_data = np.array(pt_data, dtype='float32')\n",
    "par1 = svm.predict(pt_data)\n",
    "print(par1) #正确率  预测结果"
   ]
  },
  {
   "cell_type": "code",
   "execution_count": null,
   "metadata": {},
   "outputs": [],
   "source": []
  }
 ],
 "metadata": {
  "kernelspec": {
   "display_name": "Python 3",
   "language": "python",
   "name": "python3"
  },
  "language_info": {
   "codemirror_mode": {
    "name": "ipython",
    "version": 3
   },
   "file_extension": ".py",
   "mimetype": "text/x-python",
   "name": "python",
   "nbconvert_exporter": "python",
   "pygments_lexer": "ipython3",
   "version": "3.6.5"
  }
 },
 "nbformat": 4,
 "nbformat_minor": 2
}
