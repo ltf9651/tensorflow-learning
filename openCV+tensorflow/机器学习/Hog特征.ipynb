{
 "cells": [
  {
   "cell_type": "code",
   "execution_count": null,
   "metadata": {},
   "outputs": [],
   "source": [
    "'''\n",
    "特征： 某个像素经过某种运算得到的结果\n",
    "比haar特征复杂\n",
    "\n",
    "hog计算：模块划分->计算模块的梯度和方向->bin的投影->计算模块的hog\n",
    "\n",
    "模块划分：image  win（窗体） block  cell\n",
    "win 特征计算的最顶层单元 包含一个目标的所有描述信息 -> 得到目标特征\n",
    "win size : 任意    64*128（推荐）\n",
    "\n",
    "block：win窗体的width、height为block的整数倍 16*16\n",
    "block step: 描述block如何在win下进行滑动  8*8\n",
    "block num =  ((64-16)/8 + 1)水平 * ((128-16)/8 + 1)竖直 = 105\n",
    "\n",
    "cell size : 8*8\n",
    "cell : 不可滑动\n",
    "cell num = (16/8) * (16/8) = 4  \n",
    "\n",
    "bin： 计算每个像素的梯度的时，360°/40° = 9， 1bin = 40°\n",
    "梯度 ： 运算；  大小f  方向angle\n",
    "\n",
    "hog特征维度: \n",
    "haar特征： 值\n",
    "hog特征： 向量\n",
    "'''"
   ]
  }
 ],
 "metadata": {
  "kernelspec": {
   "display_name": "Python 3",
   "language": "python",
   "name": "python3"
  },
  "language_info": {
   "codemirror_mode": {
    "name": "ipython",
    "version": 3
   },
   "file_extension": ".py",
   "mimetype": "text/x-python",
   "name": "python",
   "nbconvert_exporter": "python",
   "pygments_lexer": "ipython3",
   "version": "3.6.5"
  }
 },
 "nbformat": 4,
 "nbformat_minor": 2
}
