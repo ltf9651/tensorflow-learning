{
 "cells": [
  {
   "cell_type": "code",
   "execution_count": null,
   "metadata": {},
   "outputs": [],
   "source": [
    "'''\n",
    "特征？图像中某个区域的像素点经过运算之后得到的结果（具体指、向量、矩阵、多维）\n",
    "利用特征区分目标？ 阈值判决\n",
    "得到判决？通过机器学习\n",
    "\n",
    "公式推导\n",
    "特征 = 白色 - 黑色   白色权重 1  黑色权重-2\n",
    "特征 = 整个区域*权重1 + 黑色部分像素*黑色部分权重 = （黑色+白色）*1 + 黑色*（-2） = 白 - 黑\n",
    "积分图\n",
    "特征 = (p1-p2-p3+p4)*w\n",
    "A 1  B 1 2   C 1 3  D 1 2 3 4\n",
    "4 = A - B - C + D = 1+1+2+3+4 -(1+2) - (1+3)\n",
    "任意方块都可以由此方法算得\n",
    "\n",
    "遍历过程\n",
    "图片大小/模板大小 = 步长\n",
    "模板： 滑动，缩放\n",
    "\n",
    "'''"
   ]
  },
  {
   "cell_type": "code",
   "execution_count": null,
   "metadata": {},
   "outputs": [],
   "source": []
  }
 ],
 "metadata": {
  "kernelspec": {
   "display_name": "Python 3",
   "language": "python",
   "name": "python3"
  },
  "language_info": {
   "codemirror_mode": {
    "name": "ipython",
    "version": 3
   },
   "file_extension": ".py",
   "mimetype": "text/x-python",
   "name": "python",
   "nbconvert_exporter": "python",
   "pygments_lexer": "ipython3",
   "version": "3.6.5"
  }
 },
 "nbformat": 4,
 "nbformat_minor": 2
}
