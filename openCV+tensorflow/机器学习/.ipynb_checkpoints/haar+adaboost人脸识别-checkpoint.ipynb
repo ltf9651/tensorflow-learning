{
 "cells": [
  {
   "cell_type": "code",
   "execution_count": null,
   "metadata": {},
   "outputs": [
    {
     "name": "stdout",
     "output_type": "stream",
     "text": [
      "face =  1\n",
      "eye =  2\n"
     ]
    }
   ],
   "source": [
    "import cv2\n",
    "import numpy as np\n",
    "# load xml -> load image -> calculate haar特征 -> 灰度处理 -> 检测 -> 绘制方框\n",
    "# 引入xml\n",
    "eye_xml = cv2.CascadeClassifier('haarcascade_eye.xml')\n",
    "face_xml = cv2.CascadeClassifier('haarcascade_frontalface_default.xml')\n",
    "\n",
    "# 引入jpg\n",
    "img = cv2.imread('face.jpg')\n",
    "cv2.imshow('src', img)\n",
    "\n",
    "# 计算haar 灰度转化\n",
    "gray = cv2.cvtColor(img, cv2.COLOR_BGR2GRAY)\n",
    "\n",
    "# 检测图片中的人脸\n",
    "face = face_xml.detectMultiScale(gray, 1.3, 5)# 灰度图片数据， 缩放系数， 目标大小（像素）\n",
    "print('face = ', len(face))\n",
    "\n",
    "# 画方框\n",
    "for (x,y,w,h) in face:\n",
    "    cv2.rectangle(img, (x,y),(x+w,y+h),(255,0,0),2) \n",
    "    # 眼睛\n",
    "    roi_face = gray[y:y+h, x:x+w] #人脸范围\n",
    "    roi_color = img[y:y+h, x:x+w] #彩色图片记录\n",
    "    eye = eye_xml.detectMultiScale(roi_face)\n",
    "    print('eye = ',len(eye))\n",
    "    for (ex,ey,ew,eh) in eye:\n",
    "        cv2.rectangle(roi_color, (ex,ey), (ex+ew, ey+eh), (0,255,0),2)\n",
    "\n",
    "cv2.imshow('dst', img)\n",
    "cv2.waitKey(0)"
   ]
  },
  {
   "cell_type": "code",
   "execution_count": null,
   "metadata": {},
   "outputs": [],
   "source": []
  }
 ],
 "metadata": {
  "kernelspec": {
   "display_name": "Python 3",
   "language": "python",
   "name": "python3"
  },
  "language_info": {
   "codemirror_mode": {
    "name": "ipython",
    "version": 3
   },
   "file_extension": ".py",
   "mimetype": "text/x-python",
   "name": "python",
   "nbconvert_exporter": "python",
   "pygments_lexer": "ipython3",
   "version": "3.6.5"
  }
 },
 "nbformat": 4,
 "nbformat_minor": 2
}
