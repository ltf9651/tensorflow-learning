{
 "cells": [
  {
   "cell_type": "code",
   "execution_count": 1,
   "metadata": {},
   "outputs": [
    {
     "data": {
      "text/plain": [
       "'\\n机器学习 = 训练样本 + 特征 + 分类器\\n深度学习 = 海量训练样本 + 人工神经网络\\n\\n机器学习需要明确的特征来提取\\n深度学习通过样本训练自己提取特征（特征的提取不确定）\\n\\n机器学习:\\n1.制作样本\\n2.获取特征\\n3.利用分类器对特征进行分类\\n\\n特征： haar特征   hog特征\\nhaar：人脸识别\\nhog：行人检测\\n\\nHaar: 一系列模板组成\\n遍历过程：上->下  左->右\\n运算量较大\\n\\nAdaboost分类器：\\n强分类器、弱分类器、node节点\\n\\nhaar + adaboost -> 人脸识别\\n\\nhog + SVM支持向量机 -> 狮子识别\\n\\n预测、检验\\n'"
      ]
     },
     "execution_count": 1,
     "metadata": {},
     "output_type": "execute_result"
    }
   ],
   "source": [
    "'''\n",
    "机器学习 = 训练样本 + 特征 + 分类器\n",
    "深度学习 = 海量训练样本 + 人工神经网络\n",
    "\n",
    "机器学习需要明确的特征来提取\n",
    "深度学习通过样本训练自己提取特征（特征的提取不确定）\n",
    "\n",
    "机器学习:\n",
    "1.制作样本\n",
    "2.获取特征\n",
    "3.利用分类器对特征进行分类\n",
    "\n",
    "特征： haar特征   hog特征\n",
    "haar：人脸识别\n",
    "hog：行人检测\n",
    "\n",
    "Haar: 一系列模板组成\n",
    "遍历过程：上->下  左->右\n",
    "运算量较大\n",
    "\n",
    "Adaboost分类器：\n",
    "强分类器、弱分类器、node节点\n",
    "\n",
    "haar + adaboost -> 人脸识别\n",
    "\n",
    "hog + SVM支持向量机 -> 狮子识别\n",
    "\n",
    "预测、检验\n",
    "'''"
   ]
  },
  {
   "cell_type": "code",
   "execution_count": null,
   "metadata": {},
   "outputs": [],
   "source": [
    "'''\n",
    "haar + adaboost => face\n",
    "\n",
    "adabbost 可对每次检测错误的负样本进行加强，再把结果加入下一循环训练\n",
    "训练终止条件: 1.循环最大次数  2.每次训练结束后的检测概率（大于最小检测概率）\n",
    "\n",
    "一级分类器 and 二级分类器  两个强分类器 （15~20个）\n",
    "如果一个目标连续通过15~20阈值判决->正确\n",
    "每个分类器有自己的阈值判决\n",
    "强分类器:\n",
    "进行判决时 f1 > y1 and f2 > y2 and .... fn > yn\n",
    "当其中一个不通过时判断目标错误\n",
    "作用： 判决\n",
    "\n",
    "弱分类器：\n",
    "作用： 计算强分类器的特征 f1 f2 f3\n",
    "计算过程： 第二个强分类器特征f2 = sum(r1 + r2 + r3 ...)\n",
    "弱分类器由若干个node节点组成\n",
    "一个弱分类器最高支持三个haar特征（对应3个node节点）\n",
    "node1 -> haar1  if haar1>nodeY1： haar1 = alpha1  else: haar1 = alpha2\n",
    "node2 ...\n",
    "node3 ...\n",
    "NodeY = sum(haar1 + haar2 + haar3)  if NodeY > f1: f1 = AA else: f1 = BB\n",
    "\n",
    "node（3）->弱->强->强分类器阈值判决界限\n",
    "\n",
    "\n",
    "adaboost训练：\n",
    "1.初始化数据权值分布\n",
    "apple apple apple banana\n",
    "0.1    0.1   0.1  0.1\n",
    "2.遍历阈值 p\n",
    "3.计算权重 G\n",
    "4.权值分布update\n",
    "0.2  0.2 0.2  0.7\n",
    "\n",
    "训练满足训练终止条件 ？ 结束 ： 继续（2->3->4)\n",
    "'''"
   ]
  }
 ],
 "metadata": {
  "kernelspec": {
   "display_name": "Python 3",
   "language": "python",
   "name": "python3"
  },
  "language_info": {
   "codemirror_mode": {
    "name": "ipython",
    "version": 3
   },
   "file_extension": ".py",
   "mimetype": "text/x-python",
   "name": "python",
   "nbconvert_exporter": "python",
   "pygments_lexer": "ipython3",
   "version": "3.6.5"
  }
 },
 "nbformat": 4,
 "nbformat_minor": 2
}
