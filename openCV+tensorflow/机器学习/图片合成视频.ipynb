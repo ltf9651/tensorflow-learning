{
 "cells": [
  {
   "cell_type": "code",
   "execution_count": 1,
   "metadata": {},
   "outputs": [
    {
     "name": "stdout",
     "output_type": "stream",
     "text": [
      "(540, 960)\n"
     ]
    }
   ],
   "source": [
    "import cv2\n",
    "img = cv2.imread('image1.jpg')\n",
    "imgInfo = img.shape\n",
    "size = (imgInfo[1], imgInfo[0])\n",
    "print(size)\n",
    "videoWrite = cv2.VideoWriter('2.avi',-1, 5, size) # -1 选择支持的解码  5帧数 size=>设置大小\n",
    "for i in range(1,11):\n",
    "    fileName = 'image' + str(i) + '.jpg'\n",
    "    img = cv2.imread(fileName)\n",
    "    videoWrite.write(img) # 写入操作"
   ]
  },
  {
   "cell_type": "code",
   "execution_count": null,
   "metadata": {},
   "outputs": [],
   "source": []
  }
 ],
 "metadata": {
  "kernelspec": {
   "display_name": "Python 3",
   "language": "python",
   "name": "python3"
  },
  "language_info": {
   "codemirror_mode": {
    "name": "ipython",
    "version": 3
   },
   "file_extension": ".py",
   "mimetype": "text/x-python",
   "name": "python",
   "nbconvert_exporter": "python",
   "pygments_lexer": "ipython3",
   "version": "3.6.5"
  }
 },
 "nbformat": 4,
 "nbformat_minor": 2
}
