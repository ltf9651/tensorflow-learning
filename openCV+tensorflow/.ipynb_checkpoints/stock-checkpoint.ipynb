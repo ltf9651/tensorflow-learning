{
 "cells": [
  {
   "cell_type": "code",
   "execution_count": 19,
   "metadata": {},
   "outputs": [
    {
     "name": "stdout",
     "output_type": "stream",
     "text": [
      "[[2511.89672852]\n",
      " [2538.26123047]\n",
      " [2510.68041992]\n",
      " [2591.66040039]\n",
      " [2732.97851562]\n",
      " [2701.69091797]\n",
      " [2701.2902832 ]\n",
      " [2678.66992188]\n",
      " [2726.5       ]\n",
      " [2681.50024414]\n",
      " [2739.1706543 ]\n",
      " [2715.0715332 ]\n",
      " [2823.57910156]\n",
      " [2864.89916992]\n",
      " [2919.07958984]]\n"
     ]
    },
    {
     "data": {
      "image/png": "[encoded data removed]",
      "text/plain": [
       "<Figure size 432x288 with 1 Axes>"
      ]
     },
     "metadata": {},
     "output_type": "display_data"
    }
   ],
   "source": [
    "import tensorflow as tf\n",
    "import numpy as np\n",
    "import matplotlib.pyplot as plt\n",
    "date = np.linspace(1,15,15)\n",
    "endPrice = np.array([2511.90,2538.26,2510.68,2591.66,2732.98,2701.69,2701.29,2678.67,2726.50,2681.50,2739.17,2715.07,2823.58,2864.90,2919.08])\n",
    "beginPrice = np.array([2438.71,2500.88,2534.95,2512.52,2594.04,2743.26,2697.47,2695.24,2678.23,2722.13,2674.93,2744.13,2717.46,2832.73,2877.40])\n",
    "plt.figure()\n",
    "for i in range(0,15):\n",
    "    # 柱状图\n",
    "    dateOne = np.zeros([2])\n",
    "    dateOne[0] = i;\n",
    "    dateOne[1] = i;\n",
    "    priceOne = np.zeros([2])\n",
    "    priceOne[0] = beginPrice[i]\n",
    "    priceOne[1] = endPrice[i]\n",
    "    if endPrice[i] > beginPrice[i]:\n",
    "        plt.plot(dateOne, priceOne, 'r', lw=8) # 收盘价大，红\n",
    "    else:\n",
    "        plt.plot(dateOne, priceOne, 'g', lw=8)\n",
    "\n",
    "'''\n",
    "A(15×1)*w1（1×10） + b1（1×10） = B(15×10)\n",
    "B(15×10)*w2（10×1） + b2(15×1) = C(15×1）\n",
    "A 输入层  B 中间层  C 输出层\n",
    "'''\n",
    "# 输入层\n",
    "dateNormal = np.zeros([15,1])\n",
    "priceNormal = np.zeros([15,1])\n",
    "for i in range(0,15):\n",
    "    dateNormal[i,0] = i/14.0  # max=>14\n",
    "    priceNormal[i,0] = endPrice[i]/3000.0 #max=>3000\n",
    "x = tf.placeholder(tf.float32, [None, 1]) # N行1列\n",
    "y = tf.placeholder(tf.float32, [None, 1])\n",
    "\n",
    "# 中间层（训练）\n",
    "w1 = tf.Variable(tf.random_uniform([1, 10],0,1)) #  1行10列， >0  <1\n",
    "b1 = tf.Variable(tf.zeros([1,10]))\n",
    "B = tf.matmul(x, w1) + b1 # B\n",
    "layer1 = tf.nn.relu(B) # 激励函数(映射wb1)\n",
    "\n",
    "# 输出层（将训练出的w1,w2,b1,b2使用新的输入数据验证、预测）\n",
    "w2 = tf.Variable(tf.random_uniform([10, 1],0,1))\n",
    "b2 = tf.Variable(tf.zeros([15,1]))\n",
    "C = tf.matmul(layer1, w2) + b2\n",
    "layer2 = tf.nn.relu(C)\n",
    "loss = tf.reduce_mean(tf.square(y-layer2))  #reduce_mean 求平均值  y=>真实数值  layer2=>预测数值\n",
    "# train_step 每次调整步长  梯度下降法，每次调整0.1  minimize:目的是减小loss\n",
    "train_step = tf.train.GradientDescentOptimizer(0.1).minimize(loss)\n",
    "\n",
    "with tf.Session() as sess:\n",
    "    sess.run(tf.global_variables_initializer())\n",
    "    # 开始训练\n",
    "    for i in range(0, 10000):\n",
    "        sess.run(train_step, feed_dict={x:dateNormal, y:priceNormal})\n",
    "    # 训练结束得出 w1,w2 b1,b2\n",
    "    \n",
    "    # 检测w1,w2 b1,b2有效性 =>（new A,B,w1,w2,b1,b2) => predict    \n",
    "    predict = sess.run(layer2, feed_dict={x:dateNormal}) # 预测结果\n",
    "#     print(predict)\n",
    "    predPrice = np.zeros([15,1])   # 预测收盘价格\n",
    "    for i in range(0,15):\n",
    "        predPrice[i,0] = (predict*3000)[i,0]\n",
    "    plt.plot(date,predPrice, 'b', lw=1)\n",
    "plt.show()"
   ]
  },
  {
   "cell_type": "code",
   "execution_count": null,
   "metadata": {},
   "outputs": [],
   "source": []
  }
 ],
 "metadata": {
  "kernelspec": {
   "display_name": "Python 3",
   "language": "python",
   "name": "python3"
  },
  "language_info": {
   "codemirror_mode": {
    "name": "ipython",
    "version": 3
   },
   "file_extension": ".py",
   "mimetype": "text/x-python",
   "name": "python",
   "nbconvert_exporter": "python",
   "pygments_lexer": "ipython3",
   "version": "3.6.5"
  }
 },
 "nbformat": 4,
 "nbformat_minor": 2
}
