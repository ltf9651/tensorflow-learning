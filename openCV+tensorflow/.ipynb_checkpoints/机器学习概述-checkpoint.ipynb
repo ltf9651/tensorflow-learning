{
 "cells": [
  {
   "cell_type": "code",
   "execution_count": null,
   "metadata": {},
   "outputs": [],
   "source": [
    "'''\n",
    "机器学习 = 训练样本 + 特征 + 分类器\n",
    "深度学习 = 海量训练样本 + 人工神经网络\n",
    "\n",
    "机器学习需要明确的特征来提取\n",
    "深度学习通过样本训练自己提取特征（特征的提取不确定）\n",
    "\n",
    "机器学习:\n",
    "1.制作样本\n",
    "2.获取特征\n",
    "3.利用分类器对特征进行分类\n",
    "\n",
    "特征： haar特征   hog特征\n",
    "haar：人脸识别\n",
    "hog：行人检测\n",
    "\n",
    "Haar: 一系列模板组成\n",
    "遍历过程：上->下  左->右\n",
    "运算量较大\n",
    "\n",
    "Adaboost分类器：\n",
    "强分类器、弱分类器、node节点\n",
    "\n",
    "haar + adaboost -> 人脸识别\n",
    "\n",
    "hog + SVM支持向量机 -> 狮子识别\n",
    "\n",
    "预测、检验\n",
    "'''"
   ]
  }
 ],
 "metadata": {
  "kernelspec": {
   "display_name": "Python 3",
   "language": "python",
   "name": "python3"
  },
  "language_info": {
   "codemirror_mode": {
    "name": "ipython",
    "version": 3
   },
   "file_extension": ".py",
   "mimetype": "text/x-python",
   "name": "python",
   "nbconvert_exporter": "python",
   "pygments_lexer": "ipython3",
   "version": "3.6.5"
  }
 },
 "nbformat": 4,
 "nbformat_minor": 2
}
