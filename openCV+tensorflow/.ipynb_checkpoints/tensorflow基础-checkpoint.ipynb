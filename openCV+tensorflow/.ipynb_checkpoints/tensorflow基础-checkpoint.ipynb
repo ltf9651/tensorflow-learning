{
 "cells": [
  {
   "cell_type": "code",
   "execution_count": null,
   "metadata": {},
   "outputs": [],
   "source": [
    "# tensorflow\n",
    "# tensor 数据\n",
    "# op operation\n",
    "# graphs 数据操作过程（计算图）\n",
    "# Session 执行核心，运算交互环境"
   ]
  },
  {
   "cell_type": "code",
   "execution_count": null,
   "metadata": {},
   "outputs": [],
   "source": [
    "# tensorflow中数据要显示数值要用Session\n",
    "import tensorflow as tf\n",
    "data1 = tf.constant(2, dtype=tf.int32)\n",
    "data2 = tf.Variable(10, name='var1')\n",
    "'''\n",
    "print(data1) #tensor 张量  shape 维度 dtype 类型\n",
    "print(data2)\n",
    "sess = tf.Session()\n",
    "print(sess.run(data1))\n",
    "init = tf.global_variables_initializer()\n",
    "sess.run(init)\n",
    "print(sess.run(data2))\n",
    "sess.close()\n",
    "'''\n",
    "init = tf.global_variables_initializer()\n",
    "sess = tf.Session()\n",
    "with sess:\n",
    "    sess.run(init)\n",
    "    print(sess.run(data2))"
   ]
  },
  {
   "cell_type": "code",
   "execution_count": null,
   "metadata": {},
   "outputs": [],
   "source": [
    "import tensorflow as tf\n",
    "data1 = tf.constant(6)\n",
    "data2 = tf.constant(2)\n",
    "dataAdd = tf.add(data1, data2)\n",
    "dataSub = tf.subtract(data1, data2)\n",
    "dataMul = tf.multiply(data1, data2)\n",
    "dataDiv = tf.divide(data1, data2)\n",
    "with tf.Session() as sess:\n",
    "    print(sess.run(dataAdd))\n",
    "    print(sess.run(dataMul))\n",
    "    print(sess.run(dataSub))\n",
    "    print(sess.run(dataDiv))"
   ]
  },
  {
   "cell_type": "code",
   "execution_count": null,
   "metadata": {},
   "outputs": [],
   "source": [
    "import tensorflow as tf\n",
    "data1 = tf.constant(6)\n",
    "data2 = tf.Variable(2)\n",
    "dataAdd = tf.add(data1, data2)\n",
    "dataCopy = tf.assign(data2, dataAdd) # dataAdd -> data2\n",
    "dataSub = tf.subtract(data1, data2)\n",
    "dataMul = tf.multiply(data1, data2)\n",
    "dataDiv = tf.divide(data1, data2)\n",
    "init = tf.global_variables_initializer()\n",
    "with tf.Session() as sess:\n",
    "    sess.run(init)\n",
    "    print(sess.run(dataAdd))\n",
    "    print(sess.run(dataMul))\n",
    "    print(sess.run(dataSub))\n",
    "    print(sess.run(dataDiv))\n",
    "    print('sess.run(dataCopy):', sess.run(dataCopy)) # line5  data2 => 6 + 2\n",
    "    print('daaCopy.eval():', dataCopy.eval()) #  data2 = dataAdd = data2 + data1 = 8 + 6\n",
    "    print('tf.get_default_session().run(dataCopy)', tf.get_default_session().run(dataCopy)) # data2 = dataAdd = 14 + 6"
   ]
  },
  {
   "cell_type": "code",
   "execution_count": null,
   "metadata": {},
   "outputs": [],
   "source": [
    "import tensorflow as tf\n",
    "data1 = tf.placeholder(tf.float32)\n",
    "data2 = tf.placeholder(tf.float32)\n",
    "dataAdd = tf.add(data1, data2)\n",
    "with tf.Session() as sess:\n",
    "    print(sess.run(dataAdd, feed_dict={data1:6.2, data2:2.4}))"
   ]
  },
  {
   "cell_type": "code",
   "execution_count": null,
   "metadata": {},
   "outputs": [],
   "source": [
    "# 矩阵\n",
    "import tensorflow as tf\n",
    "data1 = tf.constant([[4,2]])\n",
    "data2 = tf.constant([[2], \n",
    "                     [3]])\n",
    "data3 = tf.constant([[3,4]])\n",
    "data4 = tf.constant([[2,4],\n",
    "                    [1,4],\n",
    "                    [5,2]])\n",
    "print(data4.shape)\n",
    "with tf.Session() as sess:\n",
    "    print(sess.run(data4))\n",
    "    print(sess.run(data4[1]))\n",
    "    print(sess.run(data4[:,0]))\n",
    "    print(sess.run(data4[0,0]))\n",
    "\n",
    "matMul = tf.matmul(data1, data2);\n",
    "matAdd = tf.add(data1, data3)\n",
    "with tf.Session() as sess:\n",
    "    print(sess.run(matMul))\n",
    "    print(sess.run(matAdd))"
   ]
  },
  {
   "cell_type": "code",
   "execution_count": 8,
   "metadata": {},
   "outputs": [
    {
     "name": "stdout",
     "output_type": "stream",
     "text": [
      "[[0 0 0]\n",
      " [0 0 0]]\n",
      "[[0. 0. 0.]\n",
      " [0. 0. 0.]]\n",
      "[[1. 1. 1.]\n",
      " [1. 1. 1.]]\n",
      "[[12 12 12]\n",
      " [12 12 12]]\n"
     ]
    }
   ],
   "source": [
    "import tensorflow as tf\n",
    "mat0 = tf.constant([[0,0,0],[0,0,0]])\n",
    "mat1 = tf.zeros([2,3])\n",
    "mat2 = tf.ones([2,3])\n",
    "mat3 = tf.fill([2,3], 12)\n",
    "with tf.Session() as sess:\n",
    "    print(sess.run(mat0))\n",
    "    print(sess.run(mat1))\n",
    "    print(sess.run(mat2))\n",
    "    print(sess.run(mat3))"
   ]
  },
  {
   "cell_type": "code",
   "execution_count": 4,
   "metadata": {},
   "outputs": [
    {
     "name": "stdout",
     "output_type": "stream",
     "text": [
      "[[2]\n",
      " [3]\n",
      " [4]]\n",
      "[[0]\n",
      " [0]\n",
      " [0]]\n",
      "[0.         0.22222222 0.44444445 0.6666667  0.8888889  1.1111112\n",
      " 1.3333334  1.5555556  1.7777778  2.        ]\n",
      "[[ 0.44208932 -0.6575173   0.5579883 ]\n",
      " [ 0.5686989   1.9515848   0.739542  ]]\n"
     ]
    }
   ],
   "source": [
    "import tensorflow as tf\n",
    "mat0 = tf.constant([[2],[3],[4]])\n",
    "mat1 = tf.zeros_like(mat0)\n",
    "mat3 = tf.linspace(0.0,2.0,10)\n",
    "mat4 = tf.random_uniform([2,3], -1,2)\n",
    "with tf.Session() as sess:\n",
    "    print(sess.run(mat0))\n",
    "    print(sess.run(mat1))\n",
    "    print(sess.run(mat3))\n",
    "    print(sess.run(mat4))"
   ]
  },
  {
   "cell_type": "code",
   "execution_count": null,
   "metadata": {},
   "outputs": [],
   "source": []
  }
 ],
 "metadata": {
  "kernelspec": {
   "display_name": "Python 3",
   "language": "python",
   "name": "python3"
  },
  "language_info": {
   "codemirror_mode": {
    "name": "ipython",
    "version": 3
   },
   "file_extension": ".py",
   "mimetype": "text/x-python",
   "name": "python",
   "nbconvert_exporter": "python",
   "pygments_lexer": "ipython3",
   "version": "3.6.5"
  }
 },
 "nbformat": 4,
 "nbformat_minor": 2
}
