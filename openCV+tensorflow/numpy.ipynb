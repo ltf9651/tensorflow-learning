{
 "cells": [
  {
   "cell_type": "code",
   "execution_count": 7,
   "metadata": {},
   "outputs": [
    {
     "name": "stdout",
     "output_type": "stream",
     "text": [
      "[1 4 1 2]\n",
      "(4,)\n",
      "[[ 1 44  2  5]\n",
      " [ 4 21  3  2]]\n",
      "(2, 4)\n",
      "[[0. 0. 0.]\n",
      " [0. 0. 0.]]\n",
      "[[1. 1. 1.]\n",
      " [1. 1. 1.]]\n",
      "21\n",
      "22\n",
      "[[2. 2. 2.]\n",
      " [2. 2. 2.]]\n"
     ]
    }
   ],
   "source": [
    "import numpy as np\n",
    "data1 = np.array([1,4,1,2])\n",
    "data2 = np.array([[1,44,2,5],[4,21,3,2]])\n",
    "print(data1)\n",
    "print(data1.shape)\n",
    "print(data2)\n",
    "print(data2.shape)\n",
    "\n",
    "print(np.zeros([2,3]))\n",
    "print(np.ones([2,3]))\n",
    "\n",
    "print(data2[1,1])\n",
    "data2[1,1] = 22\n",
    "print(data2[1,1])\n",
    "\n",
    "data3 = np.ones([2,3])\n",
    "print(data3*2)"
   ]
  }
 ],
 "metadata": {
  "kernelspec": {
   "display_name": "Python 3",
   "language": "python",
   "name": "python3"
  },
  "language_info": {
   "codemirror_mode": {
    "name": "ipython",
    "version": 3
   },
   "file_extension": ".py",
   "mimetype": "text/x-python",
   "name": "python",
   "nbconvert_exporter": "python",
   "pygments_lexer": "ipython3",
   "version": "3.6.5"
  }
 },
 "nbformat": 4,
 "nbformat_minor": 2
}
