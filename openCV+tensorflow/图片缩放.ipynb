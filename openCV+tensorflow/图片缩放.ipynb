{
 "cells": [
  {
   "cell_type": "code",
   "execution_count": null,
   "metadata": {},
   "outputs": [],
   "source": [
    "import cv2\n",
    "img = cv2.imread('img1.jpg', 1)\n",
    "imgInfo = img.shape\n",
    "height = imgInfo[0]\n",
    "width = imgInfo[1]\n",
    "mode = imgInfo[2] # 颜色组成方式\n",
    "\n",
    "dstHeight = int(height*0.5)\n",
    "dstWidth = int(width*0.5)\n",
    "dst = cv2.resize(img, (dstWidth, dstHeight)) #width  height\n",
    "cv2.imshow('image',dst)\n",
    "cv2.waitKey(0)"
   ]
  },
  {
   "cell_type": "code",
   "execution_count": null,
   "metadata": {},
   "outputs": [],
   "source": [
    "# 最近邻域插值法\n",
    "# 10*20 => 5*10  (2,10)->(1,5)\n",
    "# X = newX*(soure/target)  2 = (10/5)*1\n",
    "# 12.3 => 12   12.9=>13\n",
    "\n",
    "# 双线性插值"
   ]
  },
  {
   "cell_type": "code",
   "execution_count": null,
   "metadata": {},
   "outputs": [],
   "source": [
    "# 最近邻域插值法源码  pic = cv2.resize(pic, (400, 400), interpolation=cv2.INTER_NEAREST)\n",
    "import cv2\n",
    "import numpy as np\n",
    "img = cv2.imread('img1.jpg', 1)\n",
    "imgInfo = img.shape\n",
    "h = imgInfo[0]\n",
    "w = imgInfo[1]\n",
    "\n",
    "t_h = int(h/2)\n",
    "t_w = int(w/2)\n",
    "\n",
    "t_image = np.zeros((t_h, t_w, 3), np.uint8) # uint8->0-255\n",
    "for i in range(0, t_h): #行\n",
    "    for j in range(0, t_w): #列\n",
    "        iNew = int(i*(h*1.0/t_h))\n",
    "        jNew = int(j*(w*1.0/t_w))\n",
    "        t_image[i,j] = img[iNew, jNew]\n",
    "cv2.imshow('t_image', t_image)\n",
    "cv2.waitKey(5000)"
   ]
  },
  {
   "cell_type": "code",
   "execution_count": null,
   "metadata": {},
   "outputs": [],
   "source": [
    "import cv2\n",
    "img = cv2.imread('img1.jpg', 1)\n",
    "imgInfo = img.shape\n",
    "print(imgInfo)\n",
    "height = imgInfo[0]\n",
    "width = imgInfo[1]\n",
    "mode = imgInfo[2] "
   ]
  }
 ],
 "metadata": {
  "kernelspec": {
   "display_name": "Python 3",
   "language": "python",
   "name": "python3"
  },
  "language_info": {
   "codemirror_mode": {
    "name": "ipython",
    "version": 3
   },
   "file_extension": ".py",
   "mimetype": "text/x-python",
   "name": "python",
   "nbconvert_exporter": "python",
   "pygments_lexer": "ipython3",
   "version": "3.6.5"
  }
 },
 "nbformat": 4,
 "nbformat_minor": 2
}
