{
 "cells": [
  {
   "cell_type": "code",
   "execution_count": null,
   "metadata": {},
   "outputs": [],
   "source": [
    "import numpy as np\n",
    "import matplotlib.pyplot as plt\n",
    "import tensorflow as tf\n",
    "\n",
    "# 图上绘制一百个点\n",
    "points_num = 100\n",
    "vector = []\n",
    "for i in range(points_num):\n",
    "    x1 = np.random.normal(0.0, 0.66) #正态随机分布\n",
    "    y1 = 0.1 * x1 + 0.2 + np.random.normal(0.0, 0.04) #0.1权重  0.2偏差  \n",
    "    vector.append([x1, y1])\n",
    "\n",
    "# 真实点的x,y坐标\n",
    "x_data = [v[0] for v in vector]\n",
    "y_data = [v[1] for v in vector]\n",
    "\n",
    "W = tf.Variable(tf.random_uniform([1], -1.0, 1.0)) # 初始化权重 shape 1 min -1 max 1\n",
    "b = tf.Variable(tf.zeros([1])) # 初始化Bias（通过训练得出的 偏差）\n",
    "y = W * x_data + b \n",
    "\n",
    "loss = tf.reduce_mean(tf.square(y-y_data)) # 计算所有纬度上的平均值\n",
    "optimizer = tf.train.GradientDescentOptimizer(0.5) # 学习率（步长）0.5\n",
    "train = optimizer.minimize(loss) # 最小化损失函数\n",
    "\n",
    "sess = tf.Session()\n",
    "init = tf.global_variables_initializer()\n",
    "sess.run(init)\n",
    "\n",
    "# 训练20步\n",
    "for step in range(20):\n",
    "    sess.run(train) # 优化每一步\n",
    "    print(\"step=%d, loss=%f, [weight=%f, Bias=%f]\" % (step,sess.run(loss), sess.run(W),sess.run(b)))\n",
    "\n",
    "plt.plot(x_data, y_data, 'r*', lw=1, label=\"point\")\n",
    "plt.legend()\n",
    "plt.plot(x_data, sess.run(W) * x_data + sess.run(b))\n",
    "plt.show()\n",
    "\n",
    "sess.close()"
   ]
  },
  {
   "cell_type": "code",
   "execution_count": null,
   "metadata": {},
   "outputs": [],
   "source": []
  },
  {
   "cell_type": "code",
   "execution_count": null,
   "metadata": {},
   "outputs": [],
   "source": []
  }
 ],
 "metadata": {
  "kernelspec": {
   "display_name": "Python 3",
   "language": "python",
   "name": "python3"
  },
  "language_info": {
   "codemirror_mode": {
    "name": "ipython",
    "version": 3
   },
   "file_extension": ".py",
   "mimetype": "text/x-python",
   "name": "python",
   "nbconvert_exporter": "python",
   "pygments_lexer": "ipython3",
   "version": "3.6.5"
  }
 },
 "nbformat": 4,
 "nbformat_minor": 2
}
